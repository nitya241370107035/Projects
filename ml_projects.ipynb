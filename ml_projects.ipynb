{
 "cells": [
  {
   "cell_type": "markdown",
   "id": "afad334e",
   "metadata": {},
   "source": [
    "NAIVES BAYES"
   ]
  },
  {
   "cell_type": "code",
   "execution_count": 10,
   "id": "7cdc64e8",
   "metadata": {},
   "outputs": [
    {
     "data": {
      "text/plain": [
       "'positive sentiment'"
      ]
     },
     "execution_count": 10,
     "metadata": {},
     "output_type": "execute_result"
    }
   ],
   "source": [
    "#step 1\n",
    "import numpy as np\n",
    "from sklearn.feature_extraction.text import CountVectorizer\n",
    "from sklearn.naive_bayes import MultinomialNB\n",
    "#step 2\n",
    "reviews = [\n",
    "    \"The product is excellent and works perfectly\",\n",
    "    \"The product is not good, very disappointing\",\n",
    "    \"Terrible product and waste of money\",\n",
    "    \"I love this product and it is amazing\",\n",
    "    \"Absolutely fantastic, exceeded my expectations\",\n",
    "    \"Worst purchase ever, completely useless\",\n",
    "    \"Very satisfied, great quality and performance\",\n",
    "    \"Not worth the price, regret buying it\",\n",
    "    \"Happy with the product, works as described\",\n",
    "    \"Broke after one use, very poor quality\",\n",
    "    \"This is the best thing I’ve bought this year\",\n",
    "    \"Awful experience, I want a refund\",\n",
    "    \"Highly recommend this to everyone\",\n",
    "    \"Useless, doesn't do what it promises\",\n",
    "    \"Great value for money, will buy again\"\n",
    "]\n",
    "\n",
    "sentiments = np.array([1, 0, 0, 1, 1, 0, 1, 0, 1, 0, 1, 0, 1, 0, 1])\n",
    "#step 3\n",
    "vectorizer=CountVectorizer()\n",
    "x=vectorizer.fit_transform(reviews)\n",
    "\n",
    "#step 4\n",
    "\n",
    "classifier=MultinomialNB()\n",
    "classifier.fit(x,sentiments)\n",
    "\n",
    "#step 5 \n",
    "\n",
    "def classify_new_review(review):\n",
    "    review_vectorize=vectorizer.transform([review])\n",
    "    prediction=classifier.predict(review_vectorize)\n",
    "    if prediction[0]==1:\n",
    "        return \"positive sentiment\"\n",
    "    else:\n",
    "        return \"negative sentiment\"\n",
    "#step 6 user input\n",
    "user_input=input(\"\\n enter your review:\")\n",
    "classify_new_review(user_input)"
   ]
  },
  {
   "cell_type": "markdown",
   "id": "cc5fe5b3",
   "metadata": {},
   "source": [
    "DECISION TREE"
   ]
  },
  {
   "cell_type": "code",
   "execution_count": 11,
   "id": "f5050c66",
   "metadata": {},
   "outputs": [
    {
     "name": "stdout",
     "output_type": "stream",
     "text": [
      " accuracy:100.0%\n",
      "User is unlikely purchase the mobile phone\n"
     ]
    }
   ],
   "source": [
    "import numpy as np\n",
    "from sklearn.model_selection import train_test_split\n",
    "from sklearn.tree import DecisionTreeClassifier\n",
    "from sklearn.metrics import accuracy_score\n",
    "\n",
    "\n",
    "x = np.array([\n",
    "    [21,  20000, 2],\n",
    "    [24,  30000, 3],\n",
    "    [28,  55000, 3],\n",
    "    [32,  70000, 4],\n",
    "    [35,  90000, 4],\n",
    "    [26,  40000, 3],\n",
    "    [23,  25000, 2],\n",
    "    [30,  65000, 4],\n",
    "    [40, 100000, 4],\n",
    "    [29,  60000, 3],\n",
    "    [22,  22000, 2],\n",
    "    [27,  50000, 3]\n",
    "])\n",
    "# 1 = Bought phone, 0 = Did not buy\n",
    "y = np.array([0, 0, 1, 1, 1, 1, 0, 1, 1, 1, 0, 1])\n",
    "\n",
    "x_train , x_test , y_train , y_test = train_test_split(x , y , test_size=0.2 , random_state=42) \n",
    "\n",
    "model=DecisionTreeClassifier()\n",
    "model.fit(x_train,y_train)\n",
    "\n",
    "y_pred=model.predict(x_test)\n",
    "\n",
    "accuracy=accuracy_score(y_test,y_pred)\n",
    "\n",
    "print(f\" accuracy:{accuracy*100}%\")\n",
    "\n",
    "age=float(input(\"enter your age: \"))\n",
    "salary=float(input(\"enter your salary: \"))\n",
    "education=float(input(\"enter your education level: \"))\n",
    "\n",
    "user_data=np.array([[age,salary,education]])\n",
    "\n",
    "prediction=model.predict(user_data)\n",
    "\n",
    "if prediction[0]==1:\n",
    "    print(\"User is likely purchase the mobile phone\")\n",
    "\n",
    "else:\n",
    "    print(\"User is unlikely purchase the mobile phone\")\n"
   ]
  },
  {
   "cell_type": "markdown",
   "id": "e6a7e8c4",
   "metadata": {},
   "source": [
    "random forest classifier "
   ]
  },
  {
   "cell_type": "code",
   "execution_count": null,
   "id": "79dacc93",
   "metadata": {},
   "outputs": [
    {
     "name": "stdout",
     "output_type": "stream",
     "text": [
      "model accuracy:100.0%\n",
      "USER WILL UNLIKELY TO BUY THIS PRODUCT\n"
     ]
    },
    {
     "name": "stderr",
     "output_type": "stream",
     "text": [
      "C:\\Users\\nitya\\AppData\\Local\\Packages\\PythonSoftwareFoundation.Python.3.11_qbz5n2kfra8p0\\LocalCache\\local-packages\\Python311\\site-packages\\sklearn\\utils\\validation.py:2749: UserWarning: X does not have valid feature names, but RandomForestClassifier was fitted with feature names\n",
      "  warnings.warn(\n"
     ]
    }
   ],
   "source": [
    "from sklearn.model_selection import train_test_split\n",
    "from sklearn.ensemble import RandomForestClassifier\n",
    "from sklearn.metrics import accuracy_score\n",
    "import pandas as pd\n",
    "from sklearn.preprocessing import LabelEncoder\n",
    "data = {\n",
    "    'Age': [25, 35, 45, 20, 30, 50, 40, 55, 60, 35],\n",
    "    'Gender': ['M', 'F', 'M', 'M', 'F', 'F', 'M', 'F', 'M', 'F'],\n",
    "    'EstimatedSalary': [30000, 40000, 60000, 20000, 35000, 80000, 45000, 90000, 100000, 35000],\n",
    "    'Purchased':[0,0,1,0,1,1,0,1,1,0]\n",
    "}\n",
    "\n",
    "df=pd.DataFrame(data)\n",
    "\n",
    "label_encoder=LabelEncoder()\n",
    "df['Gender']=label_encoder.fit_transform(df['Gender'])\n",
    "\n",
    "x=df.drop('Purchased',axis=1)\n",
    "y=df['Purchased']\n",
    "\n",
    "x_train,x_test,y_train,y_test=train_test_split(x,y,test_size=0.2,random_state=42)\n",
    "\n",
    "model=RandomForestClassifier(n_estimators=100,random_state=42)\n",
    "\n",
    "model.fit(x_train,y_train)\n",
    "\n",
    "y_pred=model.predict(x_test)\n",
    "\n",
    "accuracy=accuracy_score(y_test,y_pred)\n",
    "\n",
    "print(f\"model accuracy:{accuracy*100}%\")\n",
    "\n",
    "user_age=int(input(\"enter your age : \"))\n",
    "user_gender=input(\"enter your gender M/F : \")\n",
    "user_salary=int(input(\"enter your salary : \"))\n",
    "\n",
    "gender_encoding=label_encoder.transform([user_gender])[0]\n",
    "user_datas=([[user_age,gender_encoding,user_salary]])\n",
    "\n",
    "prediction=model.predict(user_datas)\n",
    "\n",
    "if prediction[0]==1:\n",
    "    print(\"USER WILL LIKELY TO BUY THIS PRODUCT\")\n",
    "else:\n",
    "    print(\"USER WILL UNLIKELY TO BUY THIS PRODUCT\")\n"
   ]
  }
 ],
 "metadata": {
  "kernelspec": {
   "display_name": "Python 3",
   "language": "python",
   "name": "python3"
  },
  "language_info": {
   "codemirror_mode": {
    "name": "ipython",
    "version": 3
   },
   "file_extension": ".py",
   "mimetype": "text/x-python",
   "name": "python",
   "nbconvert_exporter": "python",
   "pygments_lexer": "ipython3",
   "version": "3.11.9"
  }
 },
 "nbformat": 4,
 "nbformat_minor": 5
}
